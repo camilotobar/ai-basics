{
 "cells": [
  {
   "cell_type": "markdown",
   "metadata": {},
   "source": [
    "__Author: Christian Camilo Urcuqui__\n",
    "\n",
    "__Date:  18 January 2018__\n",
    "\n",
    "\n",
    "![image](../../Utilities/genetic-algorithms.jpg)\n",
    "\n",
    "This notebook is a compilation of different ideas that I take from the references in order to make a brief of genetic algorithms and its application through Python.\n",
    "\n",
    "# Introduction to genetic algorithms\n",
    "\n",
    "Genetic algorithms are one of the tools we can use to apply machine learning to finding good, sometimes even optimal, solutions to problems that have billions of potential solutions. It's biological approach is applied in software to find answers to problems that have really large search spaces by continuously generating cantidate solutions, evaluating how well the solutions fit the desired outcome, and refining the best solutions.\n",
    "\n",
    "\n",
    "## References \n",
    "\n",
    "+ Sheppard, C. (2016). Genetic algorithms with python. Clinton Sheppard."
   ]
  }
 ],
 "metadata": {
  "kernelspec": {
   "display_name": "Python 3",
   "language": "python",
   "name": "python3"
  },
  "language_info": {
   "codemirror_mode": {
    "name": "ipython",
    "version": 3
   },
   "file_extension": ".py",
   "mimetype": "text/x-python",
   "name": "python",
   "nbconvert_exporter": "python",
   "pygments_lexer": "ipython3",
   "version": "3.6.6"
  }
 },
 "nbformat": 4,
 "nbformat_minor": 2
}
